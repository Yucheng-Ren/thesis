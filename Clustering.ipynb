{
 "cells": [
  {
   "cell_type": "code",
   "execution_count": 263,
   "id": "adjacent-lighter",
   "metadata": {},
   "outputs": [],
   "source": [
    "import pandas as pd\n",
    "import numpy as np\n",
    "import random\n",
    "from utils import *\n",
    "from collections import Counter\n",
    "import matplotlib.pyplot as plt\n",
    "import matplotlib.cm as cm\n",
    "from sklearn.ensemble import RandomForestClassifier\n",
    "from sklearn import svm\n",
    "from sklearn.model_selection import train_test_split\n",
    "from sklearn.cluster import OPTICS, cluster_optics_dbscan, KMeans\n",
    "import seaborn as sns\n",
    "from sklearn.mixture import GaussianMixture\n",
    "from sklearn import metrics"
   ]
  },
  {
   "cell_type": "code",
   "execution_count": 2,
   "id": "native-immunology",
   "metadata": {},
   "outputs": [],
   "source": [
    "df = pd.read_csv('data.csv')"
   ]
  },
  {
   "cell_type": "code",
   "execution_count": 283,
   "id": "hidden-affiliation",
   "metadata": {},
   "outputs": [
    {
     "name": "stderr",
     "output_type": "stream",
     "text": [
      "/Users/Mr_ren/.virtualenvs/thesis/lib/python3.8/site-packages/sklearn/cluster/_optics.py:803: RuntimeWarning: divide by zero encountered in true_divide\n",
      "  ratio = reachability_plot[:-1] / reachability_plot[1:]\n"
     ]
    }
   ],
   "source": [
    "features = ['ITEMID', 'OprID', 'WORKER', 'WrkCtrID']\n",
    "data = df.loc[:, features]\n",
    "data.loc[:, ('WORKER')] = data['WORKER'].astype(str)\n",
    "data.loc[:, ('WrkCtrID')] = data['WrkCtrID'].astype(str)\n",
    "df['TIME_DEVIATION'] = df['CalcHours'] - df['Hours']\n",
    "KDEY = clusterKDE(df['TIME_DEVIATION'])\n",
    "DBSCANY = clusterDBSCAN(df['TIME_DEVIATION'])\n",
    "\n",
    "# OPTICS\n",
    "clust = OPTICS(max_eps=4, min_samples=5, xi=0.1, min_cluster_size=.05)\n",
    "targets = df['TIME_DEVIATION'].to_numpy().reshape(-1, 1)\n",
    "clust.fit(targets)\n",
    "OPTICSY = clust.labels_\n",
    "\n",
    "# Gaussian Mixture Model\n",
    "gmm = GaussianMixture(n_components=6, covariance_type='spherical')\n",
    "targets = df['TIME_DEVIATION'].to_numpy().reshape(-1, 1)\n",
    "gmm.fit(targets)\n",
    "GMMY = gmm.predict(targets)\n",
    "\n",
    "# Kmeans\n",
    "kmeans = KMeans(n_clusters=5).fit(targets)\n",
    "KmeansY = kmeans.labels_\n",
    "\n",
    "df['cluster'] = DBSCANY\n",
    "timeX = data.loc[:]"
   ]
  },
  {
   "cell_type": "code",
   "execution_count": 273,
   "id": "numeric-dress",
   "metadata": {},
   "outputs": [
    {
     "name": "stdout",
     "output_type": "stream",
     "text": [
      "Silhouette Coefficient 0.8620279028894456\n",
      "Calinski-Harabasz Index 69.37154221180448\n",
      "Davies-Bouldin Index 1.9432758337489442\n"
     ]
    }
   ],
   "source": [
    "X = df['TIME_DEVIATION'].to_numpy().reshape(-1, 1)\n",
    "print(\"Silhouette Coefficient\", metrics.silhouette_score(X, DBSCANY, metric='euclidean'))\n",
    "print(\"Calinski-Harabasz Index\", metrics.calinski_harabasz_score(X, DBSCANY))\n",
    "print(\"Davies-Bouldin Index\", metrics.davies_bouldin_score(X, DBSCANY))"
   ]
  },
  {
   "cell_type": "code",
   "execution_count": 274,
   "id": "initial-throat",
   "metadata": {},
   "outputs": [
    {
     "name": "stdout",
     "output_type": "stream",
     "text": [
      "Silhouette Coefficient -0.09416026284853614\n",
      "Calinski-Harabasz Index 0.15248368976449425\n",
      "Davies-Bouldin Index 5.375237414055704\n"
     ]
    }
   ],
   "source": [
    "X = df['TIME_DEVIATION'].to_numpy().reshape(-1, 1)\n",
    "print(\"Silhouette Coefficient\", metrics.silhouette_score(X, OPTICSY, metric='euclidean'))\n",
    "print(\"Calinski-Harabasz Index\", metrics.calinski_harabasz_score(X, OPTICSY))\n",
    "print(\"Davies-Bouldin Index\", metrics.davies_bouldin_score(X, OPTICSY))"
   ]
  },
  {
   "cell_type": "code",
   "execution_count": 275,
   "id": "accurate-translator",
   "metadata": {},
   "outputs": [
    {
     "name": "stdout",
     "output_type": "stream",
     "text": [
      "Silhouette Coefficient 0.6257490937552842\n",
      "Calinski-Harabasz Index 10920.394161056865\n",
      "Davies-Bouldin Index 0.6328473194982859\n"
     ]
    }
   ],
   "source": [
    "X = df['TIME_DEVIATION'].to_numpy().reshape(-1, 1)\n",
    "print(\"Silhouette Coefficient\", metrics.silhouette_score(X, GMMY, metric='euclidean'))\n",
    "print(\"Calinski-Harabasz Index\", metrics.calinski_harabasz_score(X, GMMY))\n",
    "print(\"Davies-Bouldin Index\", metrics.davies_bouldin_score(X, GMMY))"
   ]
  },
  {
   "cell_type": "code",
   "execution_count": 276,
   "id": "protecting-aerospace",
   "metadata": {},
   "outputs": [
    {
     "name": "stdout",
     "output_type": "stream",
     "text": [
      "Silhouette Coefficient -0.42064524081097016\n",
      "Calinski-Harabasz Index 10.667491080182977\n",
      "Davies-Bouldin Index 1.0312477936042566\n"
     ]
    }
   ],
   "source": [
    "X = df['TIME_DEVIATION'].to_numpy().reshape(-1, 1)\n",
    "print(\"Silhouette Coefficient\", metrics.silhouette_score(X, KDEY, metric='euclidean'))\n",
    "print(\"Calinski-Harabasz Index\", metrics.calinski_harabasz_score(X, KDEY))\n",
    "print(\"Davies-Bouldin Index\", metrics.davies_bouldin_score(X, KDEY))"
   ]
  },
  {
   "cell_type": "code",
   "execution_count": 277,
   "id": "universal-hello",
   "metadata": {},
   "outputs": [
    {
     "name": "stdout",
     "output_type": "stream",
     "text": [
      "Silhouette Coefficient 0.9322873232749874\n",
      "Calinski-Harabasz Index 37962.03679679715\n",
      "Davies-Bouldin Index 0.22077407257359552\n"
     ]
    }
   ],
   "source": [
    "X = df['TIME_DEVIATION'].to_numpy().reshape(-1, 1)\n",
    "print(\"Silhouette Coefficient\", metrics.silhouette_score(X, KmeansY, metric='euclidean'))\n",
    "print(\"Calinski-Harabasz Index\", metrics.calinski_harabasz_score(X, KmeansY))\n",
    "print(\"Davies-Bouldin Index\", metrics.davies_bouldin_score(X, KmeansY))"
   ]
  },
  {
   "cell_type": "code",
   "execution_count": 284,
   "id": "whole-glass",
   "metadata": {},
   "outputs": [],
   "source": [
    "timeY = KmeansY"
   ]
  },
  {
   "cell_type": "code",
   "execution_count": 285,
   "id": "valid-rebecca",
   "metadata": {},
   "outputs": [
    {
     "data": {
      "text/plain": [
       "Counter({0: 1045, 2: 11, 1: 3, 4: 30, 3: 7})"
      ]
     },
     "execution_count": 285,
     "metadata": {},
     "output_type": "execute_result"
    }
   ],
   "source": [
    "Counter(timeY)"
   ]
  },
  {
   "cell_type": "code",
   "execution_count": 280,
   "id": "honey-crossing",
   "metadata": {},
   "outputs": [],
   "source": [
    "timeModel = svm.SVC(class_weight='balanced')"
   ]
  },
  {
   "cell_type": "code",
   "execution_count": 286,
   "id": "rough-kitchen",
   "metadata": {},
   "outputs": [
    {
     "name": "stdout",
     "output_type": "stream",
     "text": [
      "Sample rate 0.4, Accuracy 0.9451705230165294\n",
      "Sample rate 0.5, Accuracy 0.9333953460326687\n",
      "Sample rate 0.6, Accuracy 0.9424515365501995\n",
      "Sample rate 0.7, Accuracy 0.9380608475097583\n",
      "Sample rate 0.8, Accuracy 0.9439527061720118\n",
      "Sample rate 0.9, Accuracy 0.9436187961183572\n",
      "Sample rate 1.0, Accuracy 0.949681241892383\n"
     ]
    }
   ],
   "source": [
    "oversampleRates = [i / 10 for i in range(4, 11)]\n",
    "\n",
    "for rate in oversampleRates:\n",
    "    timeSampleDict = getSampleDict(timeY, overSampleRate=rate)\n",
    "    timePipeline = getResamplePipeline(timeSampleDict, k_neighbors=2, withUnder=True)\n",
    "    timeX_res, timeY_res = timePipeline.fit_resample(timeX, timeY)\n",
    "    print('Sample rate {0}, Accuracy {1}'.format(rate, crossValidate(timeModel, timeX_res, timeY_res, 3, 3)))"
   ]
  },
  {
   "cell_type": "code",
   "execution_count": 76,
   "id": "honey-bikini",
   "metadata": {},
   "outputs": [
    {
     "data": {
      "text/plain": [
       "<AxesSubplot:xlabel='Time hours', ylabel='Frequency'>"
      ]
     },
     "execution_count": 76,
     "metadata": {},
     "output_type": "execute_result"
    },
    {
     "data": {
      "image/png": "[encoded data removed]",
      "text/plain": [
       "<Figure size 432x288 with 1 Axes>"
      ]
     },
     "metadata": {
      "needs_background": "light"
     },
     "output_type": "display_data"
    }
   ],
   "source": [
    "fig = plt.figure(figsize = (6, 4))\n",
    "title = fig.suptitle(\"Density Plot\", fontsize=14)\n",
    "# fig.subplots_adjust(top=0.85, wspace=0.3)\n",
    "\n",
    "ax1 = fig.add_subplot(1,1, 1)\n",
    "ax1.set_xlabel(\"Time hours\")\n",
    "ax1.set_ylabel(\"Frequency\") \n",
    "sns.kdeplot(df['TIME_DEVIATION'], ax=ax1, shade=True, color='steelblue')"
   ]
  },
  {
   "cell_type": "code",
   "execution_count": 287,
   "id": "unique-floating",
   "metadata": {},
   "outputs": [
    {
     "data": {
      "image/png": "[encoded data removed]",
      "text/plain": [
       "<Figure size 1440x576 with 1 Axes>"
      ]
     },
     "metadata": {
      "needs_background": "light"
     },
     "output_type": "display_data"
    }
   ],
   "source": [
    "fig, ax = plt.subplots(figsize = (20, 8))\n",
    "colors = cm.rainbow(np.linspace(0, 1, len(Counter(timeY))))\n",
    "n_clusters = len(Counter(timeY))\n",
    "df['cluster'] = timeY\n",
    "for i, cluster in df.groupby('cluster'):\n",
    "    y = []\n",
    "    for _ in range(len(cluster['TIME_DEVIATION'])):\n",
    "        y.append(random.random() * 20)\n",
    "    label = 'Outlier' if i == -1 else 'Pattern ' + str(i)\n",
    "    label += \" (Count {0})\".format(len(y))\n",
    "    _ = ax.scatter(cluster['TIME_DEVIATION'], y, color=colors[i], label=label)\n",
    "\n",
    "ax.legend(loc=\"upper left\")\n",
    "ax.set_title('Time deviation clusters ' + '(Count {})'.format(n_clusters))\n",
    "ax.set_xlabel('Time deviation (Hours)')\n",
    "plt.show()"
   ]
  }
 ],
 "metadata": {
  "kernelspec": {
   "display_name": "Python 3",
   "language": "python",
   "name": "python3"
  },
  "language_info": {
   "codemirror_mode": {
    "name": "ipython",
    "version": 3
   },
   "file_extension": ".py",
   "mimetype": "text/x-python",
   "name": "python",
   "nbconvert_exporter": "python",
   "pygments_lexer": "ipython3",
   "version": "3.8.5"
  }
 },
 "nbformat": 4,
 "nbformat_minor": 5
}
