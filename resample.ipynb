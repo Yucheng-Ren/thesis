{
 "cells": [
  {
   "cell_type": "code",
   "execution_count": 1,
   "id": "assisted-morning",
   "metadata": {},
   "outputs": [],
   "source": [
    "import pandas as pd\n",
    "from utils import *\n",
    "import matplotlib.pyplot as plt\n",
    "from sklearn.ensemble import RandomForestClassifier\n",
    "from sklearn import svm\n",
    "from sklearn.model_selection import train_test_split"
   ]
  },
  {
   "cell_type": "code",
   "execution_count": 2,
   "id": "descending-accessory",
   "metadata": {},
   "outputs": [],
   "source": [
    "df = pd.read_csv('data.csv')"
   ]
  },
  {
   "cell_type": "code",
   "execution_count": 3,
   "id": "adopted-camping",
   "metadata": {},
   "outputs": [],
   "source": [
    "features = ['ITEMID', 'OprID', 'WORKER', 'WrkCtrID']\n",
    "data = df.loc[:, features]\n",
    "data.loc[:, ('WORKER')] = data['WORKER'].astype(str)\n",
    "data.loc[:, ('WrkCtrID')] = data['WrkCtrID'].astype(str)\n",
    "df['TIME_DEVIATION'] = df['CalcHours'] - df['Hours']\n",
    "# timeY = clusterKDE(df['TIME_DEVIATION'])\n",
    "timeY = clusterDBSCAN(df['TIME_DEVIATION'])\n",
    "timeX = data.loc[:]"
   ]
  },
  {
   "cell_type": "code",
   "execution_count": 9,
   "id": "comic-tomorrow",
   "metadata": {},
   "outputs": [],
   "source": [
    "timeModel = svm.SVC(class_weight='balanced')\n",
    "# timeModel = RandomForestClassifier(random_state=42)"
   ]
  },
  {
   "cell_type": "code",
   "execution_count": 17,
   "id": "documentary-exception",
   "metadata": {},
   "outputs": [
    {
     "name": "stdout",
     "output_type": "stream",
     "text": [
      "Sample rate 0.1, Accuracy 0.9034597123306801\n",
      "Sample rate 0.2, Accuracy 0.9127778930263113\n",
      "Sample rate 0.3, Accuracy 0.9236559139784947\n",
      "Sample rate 0.4, Accuracy 0.936929683306495\n",
      "Sample rate 0.5, Accuracy 0.9376762554040572\n",
      "Sample rate 0.6, Accuracy 0.9315624092419892\n",
      "Sample rate 0.7, Accuracy 0.9397636586863105\n",
      "Sample rate 0.8, Accuracy 0.9367283950617283\n",
      "Sample rate 0.9, Accuracy 0.9363878559527546\n",
      "Sample rate 1.0, Accuracy 0.9400434020286642\n"
     ]
    }
   ],
   "source": [
    "oversampleRates = [i / 10 for i in range(1, 11)]\n",
    "\n",
    "for rate in oversampleRates:\n",
    "    timeSampleDict = getSampleDict(timeY, overSampleRate=rate)\n",
    "    timePipeline = getResamplePipeline(timeSampleDict, withUnder=True)\n",
    "    timeX_res, timeY_res = timePipeline.fit_resample(timeX, timeY)\n",
    "    print('Sample rate {0}, Accuracy {1}'.format(rate, crossValidate(timeModel, timeX_res, timeY_res, 4, 3)))\n"
   ]
  }
 ],
 "metadata": {
  "kernelspec": {
   "display_name": "Python 3",
   "language": "python",
   "name": "python3"
  },
  "language_info": {
   "codemirror_mode": {
    "name": "ipython",
    "version": 3
   },
   "file_extension": ".py",
   "mimetype": "text/x-python",
   "name": "python",
   "nbconvert_exporter": "python",
   "pygments_lexer": "ipython3",
   "version": "3.8.5"
  }
 },
 "nbformat": 4,
 "nbformat_minor": 5
}
