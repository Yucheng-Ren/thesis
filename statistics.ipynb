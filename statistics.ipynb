{
 "cells": [
  {
   "cell_type": "code",
   "execution_count": 41,
   "metadata": {},
   "outputs": [],
   "source": [
    "import pandas\n",
    "import numpy as np\n",
    "import matplotlib.pyplot as plt\n",
    "from sklearn import svm\n",
    "from sklearn import preprocessing\n",
    "from sklearn.model_selection import train_test_split"
   ]
  },
  {
   "cell_type": "code",
   "execution_count": 110,
   "metadata": {},
   "outputs": [],
   "source": [
    "df = pandas.read_csv('data.csv')"
   ]
  },
  {
   "cell_type": "code",
   "execution_count": 111,
   "metadata": {},
   "outputs": [],
   "source": [
    "df['TOTAL'] =  df[['QTYERROR', 'QTYGOOD']].sum(axis=1)\n",
    "df['ERROR_RATE'] = (df['QTYERROR'] / df['TOTAL']) * 100"
   ]
  },
  {
   "cell_type": "code",
   "execution_count": 113,
   "metadata": {},
   "outputs": [
    {
     "data": {
      "text/plain": [
       "ITEMID           16\n",
       "QTYSCHED         60\n",
       "OprId            17\n",
       "WORKER           13\n",
       "WrkCtrId         43\n",
       "CALCQTY          57\n",
       "CALCSETUP         2\n",
       "CALCPROC        224\n",
       "WRKCTRIDCOST     14\n",
       "QTYERROR          2\n",
       "QTYGOOD          56\n",
       "TOTAL            55\n",
       "ERROR_RATE        5\n",
       "dtype: int64"
      ]
     },
     "execution_count": 113,
     "metadata": {},
     "output_type": "execute_result"
    }
   ],
   "source": [
    "df.nunique()"
   ]
  },
  {
   "cell_type": "code",
   "execution_count": 114,
   "metadata": {},
   "outputs": [
    {
     "data": {
      "text/plain": [
       "array([  0.        ,   5.88235294,  16.66666667,  14.28571429,\n",
       "       100.        ])"
      ]
     },
     "execution_count": 114,
     "metadata": {},
     "output_type": "execute_result"
    }
   ],
   "source": [
    "df['ERROR_RATE'].unique()"
   ]
  },
  {
   "cell_type": "code",
   "execution_count": 117,
   "metadata": {},
   "outputs": [
    {
     "data": {
      "text/plain": [
       "array([17.,  6.,  7.,  1.])"
      ]
     },
     "execution_count": 117,
     "metadata": {},
     "output_type": "execute_result"
    }
   ],
   "source": [
    "df[df.QTYERROR != 0]['TOTAL'].unique()"
   ]
  },
  {
   "cell_type": "code",
   "execution_count": 12,
   "metadata": {},
   "outputs": [
    {
     "data": {
      "text/html": [
       "<div>\n",
       "<style scoped>\n",
       "    .dataframe tbody tr th:only-of-type {\n",
       "        vertical-align: middle;\n",
       "    }\n",
       "\n",
       "    .dataframe tbody tr th {\n",
       "        vertical-align: top;\n",
       "    }\n",
       "\n",
       "    .dataframe thead th {\n",
       "        text-align: right;\n",
       "    }\n",
       "</style>\n",
       "<table border=\"1\" class=\"dataframe\">\n",
       "  <thead>\n",
       "    <tr style=\"text-align: right;\">\n",
       "      <th></th>\n",
       "      <th>QTYSCHED</th>\n",
       "      <th>WORKER</th>\n",
       "      <th>CALCQTY</th>\n",
       "      <th>CALCSETUP</th>\n",
       "      <th>CALCPROC</th>\n",
       "      <th>QTYERROR</th>\n",
       "      <th>QTYGOOD</th>\n",
       "      <th>ERROR_RATE</th>\n",
       "    </tr>\n",
       "  </thead>\n",
       "  <tbody>\n",
       "    <tr>\n",
       "      <th>count</th>\n",
       "      <td>91889.000000</td>\n",
       "      <td>9.188900e+04</td>\n",
       "      <td>91889.000000</td>\n",
       "      <td>91889.000000</td>\n",
       "      <td>91889.000000</td>\n",
       "      <td>91889.000000</td>\n",
       "      <td>91889.000000</td>\n",
       "      <td>91889.000000</td>\n",
       "    </tr>\n",
       "    <tr>\n",
       "      <th>mean</th>\n",
       "      <td>47.205074</td>\n",
       "      <td>7.232114e+09</td>\n",
       "      <td>44.698419</td>\n",
       "      <td>0.001589</td>\n",
       "      <td>7.808776</td>\n",
       "      <td>0.008902</td>\n",
       "      <td>37.931276</td>\n",
       "      <td>0.002697</td>\n",
       "    </tr>\n",
       "    <tr>\n",
       "      <th>std</th>\n",
       "      <td>997.117141</td>\n",
       "      <td>1.053060e+10</td>\n",
       "      <td>305.857957</td>\n",
       "      <td>0.039829</td>\n",
       "      <td>37.666677</td>\n",
       "      <td>0.093930</td>\n",
       "      <td>286.522036</td>\n",
       "      <td>0.043309</td>\n",
       "    </tr>\n",
       "    <tr>\n",
       "      <th>min</th>\n",
       "      <td>1.000000</td>\n",
       "      <td>0.000000e+00</td>\n",
       "      <td>1.000000</td>\n",
       "      <td>0.000000</td>\n",
       "      <td>0.000000</td>\n",
       "      <td>0.000000</td>\n",
       "      <td>-3063.000000</td>\n",
       "      <td>0.000000</td>\n",
       "    </tr>\n",
       "    <tr>\n",
       "      <th>25%</th>\n",
       "      <td>5.000000</td>\n",
       "      <td>0.000000e+00</td>\n",
       "      <td>5.000000</td>\n",
       "      <td>0.000000</td>\n",
       "      <td>0.500000</td>\n",
       "      <td>0.000000</td>\n",
       "      <td>5.000000</td>\n",
       "      <td>0.000000</td>\n",
       "    </tr>\n",
       "    <tr>\n",
       "      <th>50%</th>\n",
       "      <td>7.000000</td>\n",
       "      <td>0.000000e+00</td>\n",
       "      <td>7.000000</td>\n",
       "      <td>0.000000</td>\n",
       "      <td>1.333333</td>\n",
       "      <td>0.000000</td>\n",
       "      <td>6.000000</td>\n",
       "      <td>0.000000</td>\n",
       "    </tr>\n",
       "    <tr>\n",
       "      <th>75%</th>\n",
       "      <td>20.000000</td>\n",
       "      <td>2.256542e+10</td>\n",
       "      <td>20.000000</td>\n",
       "      <td>0.000000</td>\n",
       "      <td>4.000000</td>\n",
       "      <td>0.000000</td>\n",
       "      <td>18.000000</td>\n",
       "      <td>0.000000</td>\n",
       "    </tr>\n",
       "    <tr>\n",
       "      <th>max</th>\n",
       "      <td>290000.000000</td>\n",
       "      <td>2.256542e+10</td>\n",
       "      <td>20992.000000</td>\n",
       "      <td>1.000000</td>\n",
       "      <td>800.000000</td>\n",
       "      <td>1.000000</td>\n",
       "      <td>3063.000000</td>\n",
       "      <td>1.000000</td>\n",
       "    </tr>\n",
       "  </tbody>\n",
       "</table>\n",
       "</div>"
      ],
      "text/plain": [
       "            QTYSCHED        WORKER       CALCQTY     CALCSETUP      CALCPROC  \\\n",
       "count   91889.000000  9.188900e+04  91889.000000  91889.000000  91889.000000   \n",
       "mean       47.205074  7.232114e+09     44.698419      0.001589      7.808776   \n",
       "std       997.117141  1.053060e+10    305.857957      0.039829     37.666677   \n",
       "min         1.000000  0.000000e+00      1.000000      0.000000      0.000000   \n",
       "25%         5.000000  0.000000e+00      5.000000      0.000000      0.500000   \n",
       "50%         7.000000  0.000000e+00      7.000000      0.000000      1.333333   \n",
       "75%        20.000000  2.256542e+10     20.000000      0.000000      4.000000   \n",
       "max    290000.000000  2.256542e+10  20992.000000      1.000000    800.000000   \n",
       "\n",
       "           QTYERROR       QTYGOOD    ERROR_RATE  \n",
       "count  91889.000000  91889.000000  91889.000000  \n",
       "mean       0.008902     37.931276      0.002697  \n",
       "std        0.093930    286.522036      0.043309  \n",
       "min        0.000000  -3063.000000      0.000000  \n",
       "25%        0.000000      5.000000      0.000000  \n",
       "50%        0.000000      6.000000      0.000000  \n",
       "75%        0.000000     18.000000      0.000000  \n",
       "max        1.000000   3063.000000      1.000000  "
      ]
     },
     "execution_count": 12,
     "metadata": {},
     "output_type": "execute_result"
    }
   ],
   "source": [
    "df.describe()"
   ]
  },
  {
   "cell_type": "code",
   "execution_count": 13,
   "metadata": {},
   "outputs": [
    {
     "data": {
      "image/png": "[encoded data removed]",
      "text/plain": [
       "<Figure size 1080x360 with 3 Axes>"
      ]
     },
     "metadata": {
      "needs_background": "light"
     },
     "output_type": "display_data"
    }
   ],
   "source": [
    "n_bins=10\n",
    "\n",
    "fig, axs = plt.subplots(1, 3, sharey=True, tight_layout=True, figsize=(15,5))\n",
    "for i in range(3):\n",
    "    axs[i].set_xlabel('Value')\n",
    "\n",
    "axs[0].set_ylabel('Count')\n",
    "axs[0].hist(df['QTYGOOD'], bins=n_bins)\n",
    "axs[0].set_title('Quantity Good Histogram')\n",
    "axs[1].hist(df['QTYERROR'], bins=n_bins)\n",
    "axs[1].set_title('Quantity Error Histogram')\n",
    "axs[2].hist(df['ERROR_RATE'], bins=n_bins)\n",
    "axs[2].set_title('Quantity Error Rate Histogram')\n",
    "plt.show()"
   ]
  },
  {
   "cell_type": "code",
   "execution_count": 14,
   "metadata": {},
   "outputs": [],
   "source": [
    "def plotCategory(field):\n",
    "    items = df[field].value_counts()\n",
    "    plt.figure(figsize=(15, 5))\n",
    "    plt.bar(items.keys(), items.values)\n",
    "    plt.show()"
   ]
  },
  {
   "cell_type": "code",
   "execution_count": 15,
   "metadata": {},
   "outputs": [
    {
     "data": {
      "image/png": "[encoded data removed]",
      "text/plain": [
       "<Figure size 1080x360 with 1 Axes>"
      ]
     },
     "metadata": {
      "needs_background": "light"
     },
     "output_type": "display_data"
    },
    {
     "data": {
      "image/png": "[encoded data removed]",
      "text/plain": [
       "<Figure size 1080x360 with 1 Axes>"
      ]
     },
     "metadata": {
      "needs_background": "light"
     },
     "output_type": "display_data"
    }
   ],
   "source": [
    "plotCategory('ITEMID')\n",
    "plotCategory('WORKER')"
   ]
  },
  {
   "cell_type": "markdown",
   "metadata": {},
   "source": [
    "# preprocessing"
   ]
  },
  {
   "cell_type": "code",
   "execution_count": 35,
   "metadata": {},
   "outputs": [],
   "source": [
    "features = ['ITEMID', 'OprId', 'WORKER', 'WrkCtrId']\n",
    "data = df.loc[:, features]\n",
    "data.loc[:, ('WORKER')] = data['WORKER'].astype(str)\n",
    "data.loc[:, ('WrkCtrId')] = data['WrkCtrId'].astype(str)\n",
    "X = data.to_numpy()\n",
    "\n",
    "enc = preprocessing.OneHotEncoder(handle_unknown='error').fit(X)\n",
    "X = enc.transform(X).toarray()\n",
    "Y = df['ERROR_RATE']"
   ]
  },
  {
   "cell_type": "code",
   "execution_count": 37,
   "metadata": {},
   "outputs": [
    {
     "data": {
      "text/plain": [
       "(91889, 74)"
      ]
     },
     "execution_count": 37,
     "metadata": {},
     "output_type": "execute_result"
    }
   ],
   "source": [
    "X.shape"
   ]
  },
  {
   "cell_type": "markdown",
   "metadata": {},
   "source": [
    "# Training"
   ]
  },
  {
   "cell_type": "code",
   "execution_count": 44,
   "metadata": {},
   "outputs": [],
   "source": [
    "X_train , X_test , y_train, y_test = train_test_split(X, Y, random_state=0)\n",
    "regr = svm.SVR()\n",
    "regr.fit(X_train, y_train)\n",
    "result = regr.predict(X_test)"
   ]
  },
  {
   "cell_type": "code",
   "execution_count": 75,
   "metadata": {},
   "outputs": [
    {
     "data": {
      "text/plain": [
       "(array([22824.,   117.,     0.,     0.,     0.,     0.,     0.,     0.,\n",
       "            0.,    32.]),\n",
       " array([0. , 0.1, 0.2, 0.3, 0.4, 0.5, 0.6, 0.7, 0.8, 0.9, 1. ]),\n",
       " <BarContainer object of 10 artists>)"
      ]
     },
     "execution_count": 75,
     "metadata": {},
     "output_type": "execute_result"
    },
    {
     "data": {
      "image/png": "[encoded data removed]",
      "text/plain": [
       "<Figure size 432x288 with 1 Axes>"
      ]
     },
     "metadata": {
      "needs_background": "light"
     },
     "output_type": "display_data"
    }
   ],
   "source": [
    "plt.hist(list(y_test))"
   ]
  },
  {
   "cell_type": "code",
   "execution_count": 76,
   "metadata": {},
   "outputs": [
    {
     "data": {
      "text/plain": [
       "(array([2269.,    0., 1673.,  349., 4710., 4815., 4468., 2476.,    0.,\n",
       "        2213.]),\n",
       " array([0.1, 0.1, 0.1, 0.1, 0.1, 0.1, 0.1, 0.1, 0.1, 0.1, 0.1]),\n",
       " <BarContainer object of 10 artists>)"
      ]
     },
     "execution_count": 76,
     "metadata": {},
     "output_type": "execute_result"
    },
    {
     "data": {
      "image/png": "[encoded data removed]",
      "text/plain": [
       "<Figure size 432x288 with 1 Axes>"
      ]
     },
     "metadata": {
      "needs_background": "light"
     },
     "output_type": "display_data"
    }
   ],
   "source": [
    "plt.hist(list(result))"
   ]
  },
  {
   "cell_type": "code",
   "execution_count": 71,
   "metadata": {},
   "outputs": [
    {
     "data": {
      "text/plain": [
       "0.8902044858470546"
      ]
     },
     "execution_count": 71,
     "metadata": {},
     "output_type": "execute_result"
    }
   ],
   "source": [
    "df[df.ERROR_RATE != 0].size / df.size * 100"
   ]
  }
 ],
 "metadata": {
  "kernelspec": {
   "display_name": "Python 3",
   "language": "python",
   "name": "python3"
  },
  "language_info": {
   "codemirror_mode": {
    "name": "ipython",
    "version": 3
   },
   "file_extension": ".py",
   "mimetype": "text/x-python",
   "name": "python",
   "nbconvert_exporter": "python",
   "pygments_lexer": "ipython3",
   "version": "3.8.5"
  }
 },
 "nbformat": 4,
 "nbformat_minor": 4
}
